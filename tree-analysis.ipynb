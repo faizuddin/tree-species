{
 "cells": [
  {
   "cell_type": "code",
   "execution_count": null,
   "source": [
    "# packages installation - if using remote Jupyter (i.e Binder, Gradient etc.)\n",
    "# %pip install tensorflow\n",
    "# %pip install pixellib\n",
    "# %pip install opencv-python-headless"
   ],
   "outputs": [],
   "metadata": {}
  },
  {
   "cell_type": "code",
   "execution_count": null,
   "source": [
    "# load packages\n",
    "from pixellib.instance import instance_segmentation\n",
    "from pixellib.custom_train import instance_custom_training\n",
    "\n",
    "# create training instance\n",
    "train_maskrcnn = instance_custom_training()"
   ],
   "outputs": [],
   "metadata": {}
  },
  {
   "cell_type": "code",
   "execution_count": null,
   "source": [
    "# load dataset\n",
    "train_maskrcnn.load_dataset(\"dataset\")"
   ],
   "outputs": [],
   "metadata": {}
  },
  {
   "cell_type": "code",
   "execution_count": null,
   "source": [
    "# select random example and visualise\n",
    "train_maskrcnn.visualize_sample()\n"
   ],
   "outputs": [],
   "metadata": {}
  },
  {
   "cell_type": "code",
   "execution_count": null,
   "source": [
    "#  train network\n",
    "train_maskrcnn.modelConfig(network_backbone = \"resnet101\", num_classes= 1, batch_size = 4)\n",
    "train_maskrcnn.load_pretrained_model(\"models/mask_rcnn_coco.h5\")\n",
    "train_maskrcnn.train_model(num_epochs = 300, augmentation=True,  path_trained_models = \"mask_rcnn_models\")"
   ],
   "outputs": [],
   "metadata": {}
  },
  {
   "cell_type": "code",
   "execution_count": null,
   "source": [],
   "outputs": [],
   "metadata": {}
  }
 ],
 "metadata": {
  "orig_nbformat": 4,
  "language_info": {
   "name": "python",
   "version": "3.8.11",
   "mimetype": "text/x-python",
   "codemirror_mode": {
    "name": "ipython",
    "version": 3
   },
   "pygments_lexer": "ipython3",
   "nbconvert_exporter": "python",
   "file_extension": ".py"
  },
  "kernelspec": {
   "name": "python3",
   "display_name": "Python 3.8.11 64-bit ('ml': conda)"
  },
  "interpreter": {
   "hash": "f4873d2493a097bf8b7ac936ecc306d31ca5c356eeead476e08fd72b3fd4e646"
  }
 },
 "nbformat": 4,
 "nbformat_minor": 2
}