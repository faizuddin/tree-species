{
 "cells": [
  {
   "cell_type": "code",
   "execution_count": null,
   "source": [
    "# packages installation\n",
    "# %pip install tensorflow\n",
    "# %pip install pixellib\n",
    "# %pip install opencv-python-headless"
   ],
   "outputs": [],
   "metadata": {}
  },
  {
   "cell_type": "code",
   "execution_count": null,
   "source": [
    "# image segmentation\n",
    "\n",
    "# load packages\n",
    "from pixellib.semantic import semantic_segmentation\n",
    "\n",
    "# create image segmentation\n",
    "img_segmentation = semantic_segmentation()"
   ],
   "outputs": [],
   "metadata": {}
  },
  {
   "cell_type": "code",
   "execution_count": null,
   "source": [
    "# ade20k network\n",
    "img_segmentation.load_ade20k_model(\"models/deeplabv3_xception65_ade20k.h5\")\n",
    "img_segmentation.segmentAsAde20k(\"input-images/cyclists.jpg\", output_image_name= \"output-images/ade20k_cyclists.jpg\", overlay=True)"
   ],
   "outputs": [],
   "metadata": {}
  },
  {
   "cell_type": "code",
   "execution_count": null,
   "source": [
    "# pascalvoc network\n",
    "img_segmentation.load_pascalvoc_model(\"models/deeplabv3_xception_tf_dim_ordering_tf_kernels.h5\")\n",
    "segvalues, segoverlay = img_segmentation.segmentAsPascalvoc(\"input-images/cyclists.jpg\", output_image_name= \"output-images/pascalvoc_cyclists.jpg\", overlay=True)"
   ],
   "outputs": [],
   "metadata": {}
  },
  {
   "cell_type": "code",
   "execution_count": 1,
   "source": [
    "# instance segmentation\n",
    "\n",
    "# load packages\n",
    "from pixellib.instance import instance_segmentation\n",
    "\n",
    "# create segmentation instance\n",
    "ins_segmentation = instance_segmentation()"
   ],
   "outputs": [],
   "metadata": {}
  },
  {
   "cell_type": "code",
   "execution_count": 2,
   "source": [
    "# load model\n",
    "ins_segmentation.load_model(\"models/mask_rcnn_coco.h5\")\n",
    "# do segmentation, add boundary box\n",
    "ins_segmentation.segmentImage(\"input-images/cyclists.jpg\", output_image_name = \"output-images/instance_mask_rcnn_cyclists.jpg\", show_bboxes=True)"
   ],
   "outputs": [
    {
     "output_type": "stream",
     "name": "stdout",
     "text": [
      "WARNING:tensorflow:From /Users/faiz/opt/anaconda3/envs/ml/lib/python3.8/site-packages/tensorflow/python/util/deprecation.py:605: calling map_fn_v2 (from tensorflow.python.ops.map_fn) with dtype is deprecated and will be removed in a future version.\n",
      "Instructions for updating:\n",
      "Use fn_output_signature instead\n"
     ]
    },
    {
     "output_type": "stream",
     "name": "stderr",
     "text": [
      "/Users/faiz/opt/anaconda3/envs/ml/lib/python3.8/site-packages/tensorflow/python/keras/engine/training.py:2325: UserWarning: `Model.state_updates` will be removed in a future version. This property should not be used in TensorFlow 2.0, as `updates` are applied automatically.\n",
      "  warnings.warn('`Model.state_updates` will be removed in a future version. '\n"
     ]
    },
    {
     "output_type": "stream",
     "name": "stdout",
     "text": [
      "Processed image saved successfully in your current working directory.\n"
     ]
    },
    {
     "output_type": "execute_result",
     "data": {
      "text/plain": [
       "({'rois': array([[ 130,  765,  634, 1076],\n",
       "         [ 185,  477,  518,  635],\n",
       "         [ 229,  208,  401,  282],\n",
       "         [ 220,  305,  401,  381],\n",
       "         [ 181,  594,  418,  723],\n",
       "         [ 135,  709,  540,  857],\n",
       "         [ 229,  155,  381,  220],\n",
       "         [ 331,  457,  631,  682],\n",
       "         [ 235,  102,  355,  161],\n",
       "         [ 343,  725,  729, 1107],\n",
       "         [ 303,  168,  417,  220],\n",
       "         [ 194,  395,  410,  473],\n",
       "         [ 301,  280,  403,  316],\n",
       "         [ 299,  221,  429,  284],\n",
       "         [ 302,  322,  434,  380],\n",
       "         [ 215,  264,  370,  318],\n",
       "         [ 250,   33,  376,   98],\n",
       "         [ 184,  448,  487,  534],\n",
       "         [ 308,    3,  398,   34],\n",
       "         [ 223,  363,  354,  407],\n",
       "         [ 301,  124,  404,  166],\n",
       "         [ 301,   47,  401,   94],\n",
       "         [ 252,    4,  358,   38],\n",
       "         [ 311,  626,  463,  705],\n",
       "         [ 304,   99,  382,  138],\n",
       "         [ 318,  406,  459,  451],\n",
       "         [ 247,   70,  331,  106]], dtype=int32),\n",
       "  'class_ids': array([1, 1, 1, 1, 1, 1, 1, 2, 1, 2, 2, 1, 2, 2, 2, 1, 1, 1, 2, 1, 2, 2,\n",
       "         1, 2, 2, 2, 1], dtype=int32),\n",
       "  'scores': array([0.9998727 , 0.99648654, 0.9943153 , 0.9939678 , 0.99350893,\n",
       "         0.9926621 , 0.9904054 , 0.98704475, 0.9870063 , 0.9862077 ,\n",
       "         0.98066264, 0.9797524 , 0.97079474, 0.970777  , 0.9701904 ,\n",
       "         0.9688137 , 0.95494145, 0.9307175 , 0.9146431 , 0.91275   ,\n",
       "         0.90123606, 0.8951084 , 0.8446123 , 0.79783136, 0.76914597,\n",
       "         0.7440732 , 0.7317219 ], dtype=float32),\n",
       "  'masks': array([[[False, False, False, ..., False, False, False],\n",
       "          [False, False, False, ..., False, False, False],\n",
       "          [False, False, False, ..., False, False, False],\n",
       "          ...,\n",
       "          [False, False, False, ..., False, False, False],\n",
       "          [False, False, False, ..., False, False, False],\n",
       "          [False, False, False, ..., False, False, False]],\n",
       "  \n",
       "         [[False, False, False, ..., False, False, False],\n",
       "          [False, False, False, ..., False, False, False],\n",
       "          [False, False, False, ..., False, False, False],\n",
       "          ...,\n",
       "          [False, False, False, ..., False, False, False],\n",
       "          [False, False, False, ..., False, False, False],\n",
       "          [False, False, False, ..., False, False, False]],\n",
       "  \n",
       "         [[False, False, False, ..., False, False, False],\n",
       "          [False, False, False, ..., False, False, False],\n",
       "          [False, False, False, ..., False, False, False],\n",
       "          ...,\n",
       "          [False, False, False, ..., False, False, False],\n",
       "          [False, False, False, ..., False, False, False],\n",
       "          [False, False, False, ..., False, False, False]],\n",
       "  \n",
       "         ...,\n",
       "  \n",
       "         [[False, False, False, ..., False, False, False],\n",
       "          [False, False, False, ..., False, False, False],\n",
       "          [False, False, False, ..., False, False, False],\n",
       "          ...,\n",
       "          [False, False, False, ..., False, False, False],\n",
       "          [False, False, False, ..., False, False, False],\n",
       "          [False, False, False, ..., False, False, False]],\n",
       "  \n",
       "         [[False, False, False, ..., False, False, False],\n",
       "          [False, False, False, ..., False, False, False],\n",
       "          [False, False, False, ..., False, False, False],\n",
       "          ...,\n",
       "          [False, False, False, ..., False, False, False],\n",
       "          [False, False, False, ..., False, False, False],\n",
       "          [False, False, False, ..., False, False, False]],\n",
       "  \n",
       "         [[False, False, False, ..., False, False, False],\n",
       "          [False, False, False, ..., False, False, False],\n",
       "          [False, False, False, ..., False, False, False],\n",
       "          ...,\n",
       "          [False, False, False, ..., False, False, False],\n",
       "          [False, False, False, ..., False, False, False],\n",
       "          [False, False, False, ..., False, False, False]]])},\n",
       " array([[[249, 249, 249],\n",
       "         [249, 249, 249],\n",
       "         [249, 249, 249],\n",
       "         ...,\n",
       "         [142, 140, 138],\n",
       "         [142, 140, 138],\n",
       "         [142, 140, 138]],\n",
       " \n",
       "        [[249, 249, 249],\n",
       "         [249, 249, 249],\n",
       "         [249, 249, 249],\n",
       "         ...,\n",
       "         [141, 139, 137],\n",
       "         [141, 139, 137],\n",
       "         [141, 139, 137]],\n",
       " \n",
       "        [[249, 249, 249],\n",
       "         [249, 249, 249],\n",
       "         [249, 249, 249],\n",
       "         ...,\n",
       "         [139, 138, 136],\n",
       "         [139, 138, 136],\n",
       "         [139, 138, 136]],\n",
       " \n",
       "        ...,\n",
       " \n",
       "        [[168, 167, 169],\n",
       "         [184, 183, 186],\n",
       "         [184, 183, 186],\n",
       "         ...,\n",
       "         [208, 207, 212],\n",
       "         [194, 193, 198],\n",
       "         [170, 168, 173]],\n",
       " \n",
       "        [[184, 183, 186],\n",
       "         [182, 181, 183],\n",
       "         [177, 176, 179],\n",
       "         ...,\n",
       "         [169, 167, 172],\n",
       "         [173, 172, 177],\n",
       "         [172, 171, 176]],\n",
       " \n",
       "        [[184, 183, 186],\n",
       "         [182, 181, 183],\n",
       "         [177, 176, 179],\n",
       "         ...,\n",
       "         [169, 167, 172],\n",
       "         [173, 172, 177],\n",
       "         [175, 173, 178]]], dtype=uint8))"
      ]
     },
     "metadata": {},
     "execution_count": 2
    }
   ],
   "metadata": {}
  },
  {
   "cell_type": "code",
   "execution_count": null,
   "source": [],
   "outputs": [],
   "metadata": {}
  }
 ],
 "metadata": {
  "orig_nbformat": 4,
  "language_info": {
   "name": "python",
   "version": "3.8.11",
   "mimetype": "text/x-python",
   "codemirror_mode": {
    "name": "ipython",
    "version": 3
   },
   "pygments_lexer": "ipython3",
   "nbconvert_exporter": "python",
   "file_extension": ".py"
  },
  "kernelspec": {
   "name": "python3",
   "display_name": "Python 3.8.11 64-bit ('ml': conda)"
  },
  "interpreter": {
   "hash": "f4873d2493a097bf8b7ac936ecc306d31ca5c356eeead476e08fd72b3fd4e646"
  }
 },
 "nbformat": 4,
 "nbformat_minor": 2
}