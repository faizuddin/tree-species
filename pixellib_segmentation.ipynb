{
 "cells": [
  {
   "cell_type": "code",
   "execution_count": null,
   "source": [
    "# packages installation - if using remote Jupyter (i.e Binder, Gradient etc.)\n",
    "# %pip install tensorflow\n",
    "# %pip install pixellib\n",
    "# %pip install opencv-python-headless"
   ],
   "outputs": [],
   "metadata": {}
  },
  {
   "cell_type": "code",
   "execution_count": null,
   "source": [
    "# image segmentation\n",
    "\n",
    "# load packages\n",
    "from pixellib.semantic import semantic_segmentation\n",
    "\n",
    "# create image segmentation\n",
    "img_segmentation = semantic_segmentation()"
   ],
   "outputs": [],
   "metadata": {}
  },
  {
   "cell_type": "code",
   "execution_count": null,
   "source": [
    "# ade20k network\n",
    "img_segmentation.load_ade20k_model(\"models/deeplabv3_xception65_ade20k.h5\")\n",
    "img_segmentation.segmentAsAde20k(\"input-images/cyclists.jpg\", output_image_name= \"output-images/ade20k_cyclists.jpg\", overlay=True)"
   ],
   "outputs": [],
   "metadata": {}
  },
  {
   "cell_type": "code",
   "execution_count": null,
   "source": [
    "# pascalvoc network\n",
    "img_segmentation.load_pascalvoc_model(\"models/deeplabv3_xception_tf_dim_ordering_tf_kernels.h5\")\n",
    "segvalues, segoverlay = img_segmentation.segmentAsPascalvoc(\"input-images/cyclists.jpg\", output_image_name= \"output-images/pascalvoc_cyclists.jpg\", overlay=True)"
   ],
   "outputs": [],
   "metadata": {}
  },
  {
   "cell_type": "code",
   "execution_count": null,
   "source": [
    "# instance segmentation\n",
    "\n",
    "# load packages\n",
    "from pixellib.instance import instance_segmentation\n",
    "\n",
    "# create segmentation instance\n",
    "ins_segmentation = instance_segmentation()"
   ],
   "outputs": [],
   "metadata": {}
  },
  {
   "cell_type": "code",
   "execution_count": null,
   "source": [
    "# load model\n",
    "ins_segmentation.load_model(\"models/mask_rcnn_coco.h5\")\n",
    "# do segmentation, add boundary box\n",
    "ins_segmentation.segmentImage(\"input-images/cyclists.jpg\", output_image_name = \"output-images/instance_mask_rcnn_cyclists.jpg\", show_bboxes=True)"
   ],
   "outputs": [],
   "metadata": {}
  },
  {
   "cell_type": "code",
   "execution_count": null,
   "source": [],
   "outputs": [],
   "metadata": {}
  }
 ],
 "metadata": {
  "orig_nbformat": 4,
  "language_info": {
   "name": "python",
   "version": "3.8.11",
   "mimetype": "text/x-python",
   "codemirror_mode": {
    "name": "ipython",
    "version": 3
   },
   "pygments_lexer": "ipython3",
   "nbconvert_exporter": "python",
   "file_extension": ".py"
  },
  "kernelspec": {
   "name": "python3",
   "display_name": "Python 3.8.11 64-bit ('ml': conda)"
  },
  "interpreter": {
   "hash": "f4873d2493a097bf8b7ac936ecc306d31ca5c356eeead476e08fd72b3fd4e646"
  }
 },
 "nbformat": 4,
 "nbformat_minor": 2
}